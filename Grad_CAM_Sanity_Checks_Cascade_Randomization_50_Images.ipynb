{
  "nbformat": 4,
  "nbformat_minor": 0,
  "metadata": {
    "colab": {
      "name": "Grad-CAM-Sanity-Checks-Cascade-Randomization-50-Images.ipynb",
      "provenance": [],
      "collapsed_sections": []
    },
    "kernelspec": {
      "name": "python3",
      "display_name": "Python 3"
    },
    "widgets": {
      "application/vnd.jupyter.widget-state+json": {
        "e4eaad140ec042cf885d65547de43cb6": {
          "model_module": "@jupyter-widgets/controls",
          "model_name": "HBoxModel",
          "state": {
            "_view_name": "HBoxView",
            "_dom_classes": [],
            "_model_name": "HBoxModel",
            "_view_module": "@jupyter-widgets/controls",
            "_model_module_version": "1.5.0",
            "_view_count": null,
            "_view_module_version": "1.5.0",
            "box_style": "",
            "layout": "IPY_MODEL_467a90a4d57d4c4f91341ca914826629",
            "_model_module": "@jupyter-widgets/controls",
            "children": [
              "IPY_MODEL_498589e89b25472a9d65717d3153aeff",
              "IPY_MODEL_3f40651409674bd88da7eaed42ff1df0"
            ]
          }
        },
        "467a90a4d57d4c4f91341ca914826629": {
          "model_module": "@jupyter-widgets/base",
          "model_name": "LayoutModel",
          "state": {
            "_view_name": "LayoutView",
            "grid_template_rows": null,
            "right": null,
            "justify_content": null,
            "_view_module": "@jupyter-widgets/base",
            "overflow": null,
            "_model_module_version": "1.2.0",
            "_view_count": null,
            "flex_flow": null,
            "width": null,
            "min_width": null,
            "border": null,
            "align_items": null,
            "bottom": null,
            "_model_module": "@jupyter-widgets/base",
            "top": null,
            "grid_column": null,
            "overflow_y": null,
            "overflow_x": null,
            "grid_auto_flow": null,
            "grid_area": null,
            "grid_template_columns": null,
            "flex": null,
            "_model_name": "LayoutModel",
            "justify_items": null,
            "grid_row": null,
            "max_height": null,
            "align_content": null,
            "visibility": null,
            "align_self": null,
            "height": null,
            "min_height": null,
            "padding": null,
            "grid_auto_rows": null,
            "grid_gap": null,
            "max_width": null,
            "order": null,
            "_view_module_version": "1.2.0",
            "grid_template_areas": null,
            "object_position": null,
            "object_fit": null,
            "grid_auto_columns": null,
            "margin": null,
            "display": null,
            "left": null
          }
        },
        "498589e89b25472a9d65717d3153aeff": {
          "model_module": "@jupyter-widgets/controls",
          "model_name": "FloatProgressModel",
          "state": {
            "_view_name": "ProgressView",
            "style": "IPY_MODEL_3621712946b34a428bb1065e4749c192",
            "_dom_classes": [],
            "description": "100%",
            "_model_name": "FloatProgressModel",
            "bar_style": "success",
            "max": 574673361,
            "_view_module": "@jupyter-widgets/controls",
            "_model_module_version": "1.5.0",
            "value": 574673361,
            "_view_count": null,
            "_view_module_version": "1.5.0",
            "orientation": "horizontal",
            "min": 0,
            "description_tooltip": null,
            "_model_module": "@jupyter-widgets/controls",
            "layout": "IPY_MODEL_d3acfd5592e34be68b316691fc2f091f"
          }
        },
        "3f40651409674bd88da7eaed42ff1df0": {
          "model_module": "@jupyter-widgets/controls",
          "model_name": "HTMLModel",
          "state": {
            "_view_name": "HTMLView",
            "style": "IPY_MODEL_9de7b855dd0c44d698210c45fc80eaa8",
            "_dom_classes": [],
            "description": "",
            "_model_name": "HTMLModel",
            "placeholder": "​",
            "_view_module": "@jupyter-widgets/controls",
            "_model_module_version": "1.5.0",
            "value": " 548M/548M [00:33&lt;00:00, 17.3MB/s]",
            "_view_count": null,
            "_view_module_version": "1.5.0",
            "description_tooltip": null,
            "_model_module": "@jupyter-widgets/controls",
            "layout": "IPY_MODEL_c6125f627f6247868f61f26a35883e64"
          }
        },
        "3621712946b34a428bb1065e4749c192": {
          "model_module": "@jupyter-widgets/controls",
          "model_name": "ProgressStyleModel",
          "state": {
            "_view_name": "StyleView",
            "_model_name": "ProgressStyleModel",
            "description_width": "initial",
            "_view_module": "@jupyter-widgets/base",
            "_model_module_version": "1.5.0",
            "_view_count": null,
            "_view_module_version": "1.2.0",
            "bar_color": null,
            "_model_module": "@jupyter-widgets/controls"
          }
        },
        "d3acfd5592e34be68b316691fc2f091f": {
          "model_module": "@jupyter-widgets/base",
          "model_name": "LayoutModel",
          "state": {
            "_view_name": "LayoutView",
            "grid_template_rows": null,
            "right": null,
            "justify_content": null,
            "_view_module": "@jupyter-widgets/base",
            "overflow": null,
            "_model_module_version": "1.2.0",
            "_view_count": null,
            "flex_flow": null,
            "width": null,
            "min_width": null,
            "border": null,
            "align_items": null,
            "bottom": null,
            "_model_module": "@jupyter-widgets/base",
            "top": null,
            "grid_column": null,
            "overflow_y": null,
            "overflow_x": null,
            "grid_auto_flow": null,
            "grid_area": null,
            "grid_template_columns": null,
            "flex": null,
            "_model_name": "LayoutModel",
            "justify_items": null,
            "grid_row": null,
            "max_height": null,
            "align_content": null,
            "visibility": null,
            "align_self": null,
            "height": null,
            "min_height": null,
            "padding": null,
            "grid_auto_rows": null,
            "grid_gap": null,
            "max_width": null,
            "order": null,
            "_view_module_version": "1.2.0",
            "grid_template_areas": null,
            "object_position": null,
            "object_fit": null,
            "grid_auto_columns": null,
            "margin": null,
            "display": null,
            "left": null
          }
        },
        "9de7b855dd0c44d698210c45fc80eaa8": {
          "model_module": "@jupyter-widgets/controls",
          "model_name": "DescriptionStyleModel",
          "state": {
            "_view_name": "StyleView",
            "_model_name": "DescriptionStyleModel",
            "description_width": "",
            "_view_module": "@jupyter-widgets/base",
            "_model_module_version": "1.5.0",
            "_view_count": null,
            "_view_module_version": "1.2.0",
            "_model_module": "@jupyter-widgets/controls"
          }
        },
        "c6125f627f6247868f61f26a35883e64": {
          "model_module": "@jupyter-widgets/base",
          "model_name": "LayoutModel",
          "state": {
            "_view_name": "LayoutView",
            "grid_template_rows": null,
            "right": null,
            "justify_content": null,
            "_view_module": "@jupyter-widgets/base",
            "overflow": null,
            "_model_module_version": "1.2.0",
            "_view_count": null,
            "flex_flow": null,
            "width": null,
            "min_width": null,
            "border": null,
            "align_items": null,
            "bottom": null,
            "_model_module": "@jupyter-widgets/base",
            "top": null,
            "grid_column": null,
            "overflow_y": null,
            "overflow_x": null,
            "grid_auto_flow": null,
            "grid_area": null,
            "grid_template_columns": null,
            "flex": null,
            "_model_name": "LayoutModel",
            "justify_items": null,
            "grid_row": null,
            "max_height": null,
            "align_content": null,
            "visibility": null,
            "align_self": null,
            "height": null,
            "min_height": null,
            "padding": null,
            "grid_auto_rows": null,
            "grid_gap": null,
            "max_width": null,
            "order": null,
            "_view_module_version": "1.2.0",
            "grid_template_areas": null,
            "object_position": null,
            "object_fit": null,
            "grid_auto_columns": null,
            "margin": null,
            "display": null,
            "left": null
          }
        }
      }
    }
  },
  "cells": [
    {
      "cell_type": "code",
      "metadata": {
        "id": "TlIpqVOgCbN1",
        "outputId": "2e7b43fb-da9d-4f6a-f4a9-c3063bcf572b",
        "colab": {
          "base_uri": "https://localhost:8080/",
          "height": 426
        }
      },
      "source": [
        "#Doing this because, sometimes we get an error 'module 'PIL.Image' has no attribute 'register_extensions' in Google Colab\n",
        "#uninstall the old one\n",
        "!pip uninstall -y Pillow\n",
        "# install the new one\n",
        "!pip install Pillow==4.1.1"
      ],
      "execution_count": null,
      "outputs": [
        {
          "output_type": "stream",
          "text": [
            "Uninstalling Pillow-7.0.0:\n",
            "  Successfully uninstalled Pillow-7.0.0\n",
            "Collecting Pillow==4.1.1\n",
            "\u001b[?25l  Downloading https://files.pythonhosted.org/packages/36/e5/88b3d60924a3f8476fa74ec086f5fbaba56dd6cee0d82845f883b6b6dd18/Pillow-4.1.1-cp36-cp36m-manylinux1_x86_64.whl (5.7MB)\n",
            "\u001b[K     |████████████████████████████████| 5.7MB 11.0MB/s \n",
            "\u001b[?25hCollecting olefile\n",
            "\u001b[?25l  Downloading https://files.pythonhosted.org/packages/34/81/e1ac43c6b45b4c5f8d9352396a14144bba52c8fec72a80f425f6a4d653ad/olefile-0.46.zip (112kB)\n",
            "\u001b[K     |████████████████████████████████| 112kB 38.7MB/s \n",
            "\u001b[?25hBuilding wheels for collected packages: olefile\n",
            "  Building wheel for olefile (setup.py) ... \u001b[?25l\u001b[?25hdone\n",
            "  Created wheel for olefile: filename=olefile-0.46-py2.py3-none-any.whl size=35417 sha256=09be79b5f03d4810a35a3bbea897cca7356bf05e5162edd529328ed32cc47858\n",
            "  Stored in directory: /root/.cache/pip/wheels/4b/f4/11/bc4166107c27f07fd7bba707ffcb439619197638a1ac986df3\n",
            "Successfully built olefile\n",
            "\u001b[31mERROR: scikit-image 0.16.2 has requirement pillow>=4.3.0, but you'll have pillow 4.1.1 which is incompatible.\u001b[0m\n",
            "\u001b[31mERROR: albumentations 0.1.12 has requirement imgaug<0.2.7,>=0.2.5, but you'll have imgaug 0.2.9 which is incompatible.\u001b[0m\n",
            "Installing collected packages: olefile, Pillow\n",
            "Successfully installed Pillow-4.1.1 olefile-0.46\n"
          ],
          "name": "stdout"
        },
        {
          "output_type": "display_data",
          "data": {
            "application/vnd.colab-display-data+json": {
              "pip_warning": {
                "packages": [
                  "PIL"
                ]
              }
            }
          },
          "metadata": {
            "tags": []
          }
        }
      ]
    },
    {
      "cell_type": "code",
      "metadata": {
        "id": "N2gWjRD1azqu",
        "outputId": "8bf4e33b-fda4-4ba4-d2a7-31890655bb0a",
        "colab": {
          "base_uri": "https://localhost:8080/",
          "height": 123
        }
      },
      "source": [
        "!git clone https://github.com/Shubhambindal2017/GRAD-CAM-with-Sanity-Checks.git"
      ],
      "execution_count": null,
      "outputs": [
        {
          "output_type": "stream",
          "text": [
            "Cloning into 'GRAD-CAM-with-Sanity-Checks'...\n",
            "remote: Enumerating objects: 19, done.\u001b[K\n",
            "remote: Counting objects: 100% (19/19), done.\u001b[K\n",
            "remote: Compressing objects: 100% (13/13), done.\u001b[K\n",
            "remote: Total 19 (delta 6), reused 14 (delta 4), pack-reused 0\u001b[K\n",
            "Unpacking objects: 100% (19/19), done.\n"
          ],
          "name": "stdout"
        }
      ]
    },
    {
      "cell_type": "code",
      "metadata": {
        "id": "WAc7v5StIM3i"
      },
      "source": [
        "import numpy as np\n",
        "from matplotlib import pyplot as plt\n",
        "from matplotlib import cm\n",
        "import skimage\n",
        "import torchvision\n",
        "from skimage import io\n",
        "import os\n",
        "from PIL import Image\n",
        "from skimage import transform\n",
        "import torch\n",
        "from matplotlib import cm\n",
        "import scipy\n",
        "from skimage.feature import hog"
      ],
      "execution_count": null,
      "outputs": []
    },
    {
      "cell_type": "code",
      "metadata": {
        "id": "w0V3uG-0DMuC"
      },
      "source": [
        "img_dir = '/content/drive/My Drive/Interpretability Research/50_Random_Images'\n",
        "images = os.listdir(img_dir)"
      ],
      "execution_count": null,
      "outputs": []
    },
    {
      "cell_type": "code",
      "metadata": {
        "id": "QKjpKsiybxuR",
        "outputId": "ce51dee9-9e9d-4134-eacd-febac2a08a8f",
        "colab": {
          "base_uri": "https://localhost:8080/",
          "height": 34
        }
      },
      "source": [
        "%cd /content/GRAD-CAM-with-Sanity-Checks"
      ],
      "execution_count": null,
      "outputs": [
        {
          "output_type": "stream",
          "text": [
            "/content/GRAD-CAM-with-Sanity-Checks\n"
          ],
          "name": "stdout"
        }
      ]
    },
    {
      "cell_type": "code",
      "metadata": {
        "id": "NzcUo0RRIgIB"
      },
      "source": [
        "from get_models import get_default_model, cascade_randomization, independent_randomization\n",
        "from prepare_model import prepare_model_for_gradcam\n",
        "from updated_utils import get_saliency, batch_overlay"
      ],
      "execution_count": null,
      "outputs": []
    },
    {
      "cell_type": "code",
      "metadata": {
        "id": "lity9L_2JbyL"
      },
      "source": [
        "modelname = 'vgg19'"
      ],
      "execution_count": null,
      "outputs": []
    },
    {
      "cell_type": "code",
      "metadata": {
        "id": "NRpnRxOKLm-x"
      },
      "source": [
        "import pickle \n",
        "\n",
        "files = open(\"/content/drive/My Drive/Interpretability Research/synset_to_clsidx.pkl\", \"rb\")\n",
        "synset_to_clsidx = pickle.load(files)\n",
        "\n",
        "files = open(\"/content/drive/My Drive/Interpretability Research/clsidx_to_labels.pkl\", \"rb\")\n",
        "clsidx_to_labels = pickle.load(files)\n"
      ],
      "execution_count": null,
      "outputs": []
    },
    {
      "cell_type": "code",
      "metadata": {
        "id": "eqVa_iNIpLD7"
      },
      "source": [
        "## Categories of interest ##\n",
        "\n",
        "categories = []\n",
        "class_names = []\n",
        "\n",
        "for img in images:\n",
        "\n",
        "  synset = os.path.basename(img).split('_')[0]\n",
        "  class_name = clsidx_to_labels[synset_to_clsidx[synset]]\n",
        "  categories.append(synset_to_clsidx[synset])\n",
        "  class_names.append(class_name)\n",
        "\n"
      ],
      "execution_count": null,
      "outputs": []
    },
    {
      "cell_type": "code",
      "metadata": {
        "id": "yirVi9NEDobe"
      },
      "source": [
        "model_imsize = 224,224\n",
        "\n",
        "vgg_mean = (0.485, 0.456, 0.406)\n",
        "vgg_std = (0.229, 0.224, 0.225)\n",
        "\n",
        "model_mean,model_std = vgg_mean,vgg_std \n",
        "preprocess = torchvision.transforms.Compose([torchvision.transforms.Resize(model_imsize),\n",
        "                                    torchvision.transforms.ToTensor(),\n",
        "                                    torchvision.transforms.Normalize(mean = model_mean,std=model_std)\n",
        "                                    ])"
      ],
      "execution_count": null,
      "outputs": []
    },
    {
      "cell_type": "code",
      "metadata": {
        "id": "Kwgm2vZ2Du2u",
        "outputId": "dd26cee8-79e8-4c9b-c447-9d2c74c864eb",
        "colab": {
          "base_uri": "https://localhost:8080/",
          "height": 1000
        }
      },
      "source": [
        "refs = []\n",
        "ims = []\n",
        "\n",
        "for img, class_of_interest in zip(images, categories):\n",
        "\n",
        "  im = io.imread(os.path.join(img_dir, img))\n",
        "\n",
        "  if len(im.shape) == 2:\n",
        "    im = np.stack((im,)*3, axis=-1)\n",
        "\n",
        "  print(im.shape)\n",
        "\n",
        "  ims.append(im)\n",
        "\n",
        "  im_pil = Image.fromarray(im)\n",
        "  ref = preprocess(im_pil).unsqueeze(0)\n",
        "  print(ref.shape)\n",
        "  ref = ref.cuda()\n",
        "\n",
        "  refs.append(ref)\n",
        " \n"
      ],
      "execution_count": null,
      "outputs": [
        {
          "output_type": "stream",
          "text": [
            "(332, 500, 3)\n",
            "torch.Size([1, 3, 224, 224])\n",
            "(459, 500, 3)\n",
            "torch.Size([1, 3, 224, 224])\n",
            "(375, 500, 3)\n",
            "torch.Size([1, 3, 224, 224])\n",
            "(1200, 1600, 3)\n",
            "torch.Size([1, 3, 224, 224])\n",
            "(500, 463, 3)\n",
            "torch.Size([1, 3, 224, 224])\n",
            "(189, 311, 3)\n",
            "torch.Size([1, 3, 224, 224])\n",
            "(500, 375, 3)\n",
            "torch.Size([1, 3, 224, 224])\n",
            "(371, 500, 3)\n",
            "torch.Size([1, 3, 224, 224])\n",
            "(334, 500, 3)\n",
            "torch.Size([1, 3, 224, 224])\n",
            "(375, 500, 3)\n",
            "torch.Size([1, 3, 224, 224])\n",
            "(141, 160, 3)\n",
            "torch.Size([1, 3, 224, 224])\n",
            "(300, 400, 3)\n",
            "torch.Size([1, 3, 224, 224])\n",
            "(500, 376, 3)\n",
            "torch.Size([1, 3, 224, 224])\n",
            "(333, 500, 3)\n",
            "torch.Size([1, 3, 224, 224])\n",
            "(500, 375, 3)\n",
            "torch.Size([1, 3, 224, 224])\n",
            "(400, 500, 3)\n",
            "torch.Size([1, 3, 224, 224])\n",
            "(500, 333, 3)\n",
            "torch.Size([1, 3, 224, 224])\n",
            "(447, 500, 3)\n",
            "torch.Size([1, 3, 224, 224])\n",
            "(333, 500, 3)\n",
            "torch.Size([1, 3, 224, 224])\n",
            "(400, 500, 3)\n",
            "torch.Size([1, 3, 224, 224])\n",
            "(375, 500, 3)\n",
            "torch.Size([1, 3, 224, 224])\n",
            "(500, 347, 3)\n",
            "torch.Size([1, 3, 224, 224])\n",
            "(375, 500, 3)\n",
            "torch.Size([1, 3, 224, 224])\n",
            "(500, 375, 3)\n",
            "torch.Size([1, 3, 224, 224])\n",
            "(333, 500, 3)\n",
            "torch.Size([1, 3, 224, 224])\n",
            "(300, 247, 3)\n",
            "torch.Size([1, 3, 224, 224])\n",
            "(345, 540, 3)\n",
            "torch.Size([1, 3, 224, 224])\n",
            "(333, 500, 3)\n",
            "torch.Size([1, 3, 224, 224])\n",
            "(375, 500, 3)\n",
            "torch.Size([1, 3, 224, 224])\n",
            "(357, 500, 3)\n",
            "torch.Size([1, 3, 224, 224])\n",
            "(400, 500, 3)\n",
            "torch.Size([1, 3, 224, 224])\n",
            "(332, 500, 3)\n",
            "torch.Size([1, 3, 224, 224])\n",
            "(333, 500, 3)\n",
            "torch.Size([1, 3, 224, 224])\n",
            "(375, 500, 3)\n",
            "torch.Size([1, 3, 224, 224])\n",
            "(500, 375, 3)\n",
            "torch.Size([1, 3, 224, 224])\n",
            "(500, 355, 3)\n",
            "torch.Size([1, 3, 224, 224])\n",
            "(500, 333, 3)\n",
            "torch.Size([1, 3, 224, 224])\n",
            "(80, 80, 3)\n",
            "torch.Size([1, 3, 224, 224])\n",
            "(371, 430, 3)\n",
            "torch.Size([1, 3, 224, 224])\n",
            "(388, 520, 3)\n",
            "torch.Size([1, 3, 224, 224])\n",
            "(400, 500, 3)\n",
            "torch.Size([1, 3, 224, 224])\n",
            "(500, 400, 3)\n",
            "torch.Size([1, 3, 224, 224])\n",
            "(165, 260, 3)\n",
            "torch.Size([1, 3, 224, 224])\n",
            "(375, 500, 3)\n",
            "torch.Size([1, 3, 224, 224])\n",
            "(375, 500, 3)\n",
            "torch.Size([1, 3, 224, 224])\n",
            "(210, 500, 3)\n",
            "torch.Size([1, 3, 224, 224])\n",
            "(500, 365, 3)\n",
            "torch.Size([1, 3, 224, 224])\n",
            "(500, 317, 3)\n",
            "torch.Size([1, 3, 224, 224])\n",
            "(500, 500, 3)\n",
            "torch.Size([1, 3, 224, 224])\n",
            "(375, 500, 3)\n",
            "torch.Size([1, 3, 224, 224])\n"
          ],
          "name": "stdout"
        }
      ]
    },
    {
      "cell_type": "code",
      "metadata": {
        "id": "NQwlp-_ZNMGi"
      },
      "source": [
        "final_refs = None\n",
        "for ref in refs:\n",
        "\n",
        "  if final_refs == None:\n",
        "    final_refs = ref\n",
        "\n",
        "  else:\n",
        "    final_refs = torch.cat([final_refs,ref],0)"
      ],
      "execution_count": null,
      "outputs": []
    },
    {
      "cell_type": "code",
      "metadata": {
        "id": "4S650QMjR9K8",
        "outputId": "ed62e522-3c85-477b-f9cb-fc08183828b3",
        "colab": {
          "base_uri": "https://localhost:8080/",
          "height": 34
        }
      },
      "source": [
        "final_refs.shape"
      ],
      "execution_count": null,
      "outputs": [
        {
          "output_type": "execute_result",
          "data": {
            "text/plain": [
              "torch.Size([50, 3, 224, 224])"
            ]
          },
          "metadata": {
            "tags": []
          },
          "execution_count": 12
        }
      ]
    },
    {
      "cell_type": "code",
      "metadata": {
        "id": "Asj1oPXJK9Uo",
        "outputId": "08c0fd69-df48-495d-f241-a21eea9c7a33",
        "colab": {
          "base_uri": "https://localhost:8080/",
          "height": 368,
          "referenced_widgets": [
            "e4eaad140ec042cf885d65547de43cb6",
            "467a90a4d57d4c4f91341ca914826629",
            "498589e89b25472a9d65717d3153aeff",
            "3f40651409674bd88da7eaed42ff1df0",
            "3621712946b34a428bb1065e4749c192",
            "d3acfd5592e34be68b316691fc2f091f",
            "9de7b855dd0c44d698210c45fc80eaa8",
            "c6125f627f6247868f61f26a35883e64"
          ]
        }
      },
      "source": [
        "\n",
        "cascade_random_output_binaries = {}\n",
        "\n",
        "for i in range(1, 17):\n",
        "\n",
        "  print(f'i ---> {i}')\n",
        "\n",
        "  cascade_random_output_binaries[i] = []\n",
        "  \n",
        "  model, model_imsize, preprocess = cascade_randomization(modelname = modelname, num_layers_from_last = i)\n",
        "\n",
        "  last_spatial_layer,hooked_last_spatial,bwdhooked_last_spatial = prepare_model_for_gradcam(modelname,model)\n",
        "\n",
        "  L_c_nps, heat_maps, ref_scores = get_saliency(model, final_refs , categories, model_imsize, last_spatial_layer)\n",
        "\n",
        "  #saliency_overlayed, pil_heat_map_jet = batch_overlay(heat_maps, ims, model_imsize)\n",
        "\n",
        "  #import pdb; pdb.set_trace()\n",
        "\n",
        "  #'''\n",
        "  for heat_map in heat_maps:\n",
        "\n",
        "    #cascade_random_output_binary = np.mean(np.asarray(heat_map), axis=2).astype('uint8')\n",
        "\n",
        "    #cascade_random_output_binaries[i].append(cascade_random_output_binary)\n",
        "\n",
        "    cascade_random_output_binaries[i].append(heat_map)\n",
        "\n",
        "\n",
        "  del model\n",
        "  torch.cuda.empty_cache()\n",
        "\n",
        "  #'''"
      ],
      "execution_count": null,
      "outputs": [
        {
          "output_type": "stream",
          "text": [
            "i ---> 1\n"
          ],
          "name": "stdout"
        },
        {
          "output_type": "stream",
          "text": [
            "Downloading: \"https://download.pytorch.org/models/vgg19-dcbb9e9d.pth\" to /root/.cache/torch/hub/checkpoints/vgg19-dcbb9e9d.pth\n"
          ],
          "name": "stderr"
        },
        {
          "output_type": "display_data",
          "data": {
            "application/vnd.jupyter.widget-view+json": {
              "model_id": "e4eaad140ec042cf885d65547de43cb6",
              "version_minor": 0,
              "version_major": 2
            },
            "text/plain": [
              "HBox(children=(FloatProgress(value=0.0, max=574673361.0), HTML(value='')))"
            ]
          },
          "metadata": {
            "tags": []
          }
        },
        {
          "output_type": "stream",
          "text": [
            "\n",
            "i ---> 2\n",
            "i ---> 3\n",
            "i ---> 4\n",
            "i ---> 5\n",
            "i ---> 6\n",
            "i ---> 7\n",
            "i ---> 8\n",
            "i ---> 9\n",
            "i ---> 10\n",
            "i ---> 11\n",
            "i ---> 12\n",
            "i ---> 13\n",
            "i ---> 14\n",
            "i ---> 15\n",
            "i ---> 16\n"
          ],
          "name": "stdout"
        }
      ]
    },
    {
      "cell_type": "code",
      "metadata": {
        "id": "m4G1ZSdGdcjH"
      },
      "source": [
        "import pickle\n",
        "\n",
        "files = open(\"/content/drive/My Drive/Interpretability Research/Salieny_maps/cascade_random_output_binaries.pkl\", \"wb\")\n",
        "pickle.dump(cascade_random_output_binaries , files)\n",
        "files.close()"
      ],
      "execution_count": null,
      "outputs": []
    },
    {
      "cell_type": "code",
      "metadata": {
        "id": "JP45A-yaeW77",
        "outputId": "b62e9998-0371-4f4c-a407-673c69741356",
        "colab": {
          "base_uri": "https://localhost:8080/",
          "height": 34
        }
      },
      "source": [
        "heat_map.shape"
      ],
      "execution_count": null,
      "outputs": [
        {
          "output_type": "execute_result",
          "data": {
            "text/plain": [
              "(224, 224)"
            ]
          },
          "metadata": {
            "tags": []
          },
          "execution_count": 15
        }
      ]
    },
    {
      "cell_type": "code",
      "metadata": {
        "id": "VOFzSSydCX--"
      },
      "source": [
        ""
      ],
      "execution_count": null,
      "outputs": []
    }
  ]
}